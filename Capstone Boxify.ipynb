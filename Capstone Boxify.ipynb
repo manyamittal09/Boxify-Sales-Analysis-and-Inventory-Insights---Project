{
 "cells": [
  {
   "cell_type": "code",
   "execution_count": 1,
   "id": "abd5c28f-8ed6-45e2-b70a-b2ba0b38ab19",
   "metadata": {},
   "outputs": [],
   "source": [
    "import pandas as pd\n",
    "import warnings\n",
    "warnings.filterwarnings(\"ignore\")"
   ]
  },
  {
   "cell_type": "code",
   "execution_count": 3,
   "id": "333b40b3-8e68-4c53-a4a5-65d8de07445e",
   "metadata": {},
   "outputs": [],
   "source": [
    "df= pd.read_csv(\"Boxify Dataset - Data Analyst Bootcamp.csv\")"
   ]
  },
  {
   "cell_type": "code",
   "execution_count": 5,
   "id": "e94ea2ef-5205-4cda-975c-c4aa8fcd8100",
   "metadata": {},
   "outputs": [
    {
     "data": {
      "text/html": [
       "<div>\n",
       "<style scoped>\n",
       "    .dataframe tbody tr th:only-of-type {\n",
       "        vertical-align: middle;\n",
       "    }\n",
       "\n",
       "    .dataframe tbody tr th {\n",
       "        vertical-align: top;\n",
       "    }\n",
       "\n",
       "    .dataframe thead th {\n",
       "        text-align: right;\n",
       "    }\n",
       "</style>\n",
       "<table border=\"1\" class=\"dataframe\">\n",
       "  <thead>\n",
       "    <tr style=\"text-align: right;\">\n",
       "      <th></th>\n",
       "      <th>Order</th>\n",
       "      <th>File_Type</th>\n",
       "      <th>SKU_number</th>\n",
       "      <th>SoldFlag</th>\n",
       "      <th>SoldCount</th>\n",
       "      <th>MarketingType</th>\n",
       "      <th>ReleaseNumber</th>\n",
       "      <th>New_Release_Flag</th>\n",
       "      <th>StrengthFactor</th>\n",
       "      <th>PriceReg</th>\n",
       "      <th>ReleaseYear</th>\n",
       "      <th>ItemCount</th>\n",
       "      <th>LowUserPrice</th>\n",
       "      <th>LowNetPrice</th>\n",
       "    </tr>\n",
       "  </thead>\n",
       "  <tbody>\n",
       "    <tr>\n",
       "      <th>0</th>\n",
       "      <td>2</td>\n",
       "      <td>Historical</td>\n",
       "      <td>1737127</td>\n",
       "      <td>0.0</td>\n",
       "      <td>0.0</td>\n",
       "      <td>D</td>\n",
       "      <td>15</td>\n",
       "      <td>1</td>\n",
       "      <td>6.827430e+05</td>\n",
       "      <td>44.99</td>\n",
       "      <td>2015</td>\n",
       "      <td>8</td>\n",
       "      <td>28.97</td>\n",
       "      <td>31.84</td>\n",
       "    </tr>\n",
       "    <tr>\n",
       "      <th>1</th>\n",
       "      <td>3</td>\n",
       "      <td>Historical</td>\n",
       "      <td>3255963</td>\n",
       "      <td>0.0</td>\n",
       "      <td>0.0</td>\n",
       "      <td>D</td>\n",
       "      <td>7</td>\n",
       "      <td>1</td>\n",
       "      <td>1.016014e+06</td>\n",
       "      <td>24.81</td>\n",
       "      <td>2005</td>\n",
       "      <td>39</td>\n",
       "      <td>0.00</td>\n",
       "      <td>15.54</td>\n",
       "    </tr>\n",
       "    <tr>\n",
       "      <th>2</th>\n",
       "      <td>4</td>\n",
       "      <td>Historical</td>\n",
       "      <td>612701</td>\n",
       "      <td>0.0</td>\n",
       "      <td>0.0</td>\n",
       "      <td>D</td>\n",
       "      <td>0</td>\n",
       "      <td>0</td>\n",
       "      <td>3.404640e+05</td>\n",
       "      <td>46.00</td>\n",
       "      <td>2013</td>\n",
       "      <td>34</td>\n",
       "      <td>30.19</td>\n",
       "      <td>27.97</td>\n",
       "    </tr>\n",
       "    <tr>\n",
       "      <th>3</th>\n",
       "      <td>6</td>\n",
       "      <td>Historical</td>\n",
       "      <td>115883</td>\n",
       "      <td>1.0</td>\n",
       "      <td>1.0</td>\n",
       "      <td>D</td>\n",
       "      <td>4</td>\n",
       "      <td>1</td>\n",
       "      <td>3.340110e+05</td>\n",
       "      <td>100.00</td>\n",
       "      <td>2006</td>\n",
       "      <td>20</td>\n",
       "      <td>133.93</td>\n",
       "      <td>83.15</td>\n",
       "    </tr>\n",
       "    <tr>\n",
       "      <th>4</th>\n",
       "      <td>7</td>\n",
       "      <td>Historical</td>\n",
       "      <td>863939</td>\n",
       "      <td>1.0</td>\n",
       "      <td>1.0</td>\n",
       "      <td>D</td>\n",
       "      <td>2</td>\n",
       "      <td>1</td>\n",
       "      <td>1.287938e+06</td>\n",
       "      <td>121.95</td>\n",
       "      <td>2010</td>\n",
       "      <td>28</td>\n",
       "      <td>4.00</td>\n",
       "      <td>23.99</td>\n",
       "    </tr>\n",
       "    <tr>\n",
       "      <th>...</th>\n",
       "      <td>...</td>\n",
       "      <td>...</td>\n",
       "      <td>...</td>\n",
       "      <td>...</td>\n",
       "      <td>...</td>\n",
       "      <td>...</td>\n",
       "      <td>...</td>\n",
       "      <td>...</td>\n",
       "      <td>...</td>\n",
       "      <td>...</td>\n",
       "      <td>...</td>\n",
       "      <td>...</td>\n",
       "      <td>...</td>\n",
       "      <td>...</td>\n",
       "    </tr>\n",
       "    <tr>\n",
       "      <th>198912</th>\n",
       "      <td>208023</td>\n",
       "      <td>Active</td>\n",
       "      <td>109683</td>\n",
       "      <td>NaN</td>\n",
       "      <td>NaN</td>\n",
       "      <td>D</td>\n",
       "      <td>7</td>\n",
       "      <td>1</td>\n",
       "      <td>2.101869e+05</td>\n",
       "      <td>72.87</td>\n",
       "      <td>2006</td>\n",
       "      <td>54</td>\n",
       "      <td>8.46</td>\n",
       "      <td>60.59</td>\n",
       "    </tr>\n",
       "    <tr>\n",
       "      <th>198913</th>\n",
       "      <td>208024</td>\n",
       "      <td>Active</td>\n",
       "      <td>416462</td>\n",
       "      <td>NaN</td>\n",
       "      <td>NaN</td>\n",
       "      <td>D</td>\n",
       "      <td>8</td>\n",
       "      <td>1</td>\n",
       "      <td>4.555041e+05</td>\n",
       "      <td>247.00</td>\n",
       "      <td>2009</td>\n",
       "      <td>65</td>\n",
       "      <td>8.40</td>\n",
       "      <td>74.85</td>\n",
       "    </tr>\n",
       "    <tr>\n",
       "      <th>198914</th>\n",
       "      <td>208025</td>\n",
       "      <td>Active</td>\n",
       "      <td>658242</td>\n",
       "      <td>NaN</td>\n",
       "      <td>NaN</td>\n",
       "      <td>S</td>\n",
       "      <td>2</td>\n",
       "      <td>1</td>\n",
       "      <td>1.692746e+05</td>\n",
       "      <td>50.00</td>\n",
       "      <td>2012</td>\n",
       "      <td>23</td>\n",
       "      <td>23.98</td>\n",
       "      <td>32.62</td>\n",
       "    </tr>\n",
       "    <tr>\n",
       "      <th>198915</th>\n",
       "      <td>208026</td>\n",
       "      <td>Active</td>\n",
       "      <td>2538340</td>\n",
       "      <td>NaN</td>\n",
       "      <td>NaN</td>\n",
       "      <td>S</td>\n",
       "      <td>2</td>\n",
       "      <td>1</td>\n",
       "      <td>3.775266e+05</td>\n",
       "      <td>46.95</td>\n",
       "      <td>2001</td>\n",
       "      <td>23</td>\n",
       "      <td>27.42</td>\n",
       "      <td>37.89</td>\n",
       "    </tr>\n",
       "    <tr>\n",
       "      <th>198916</th>\n",
       "      <td>208027</td>\n",
       "      <td>Active</td>\n",
       "      <td>416662</td>\n",
       "      <td>NaN</td>\n",
       "      <td>NaN</td>\n",
       "      <td>D</td>\n",
       "      <td>15</td>\n",
       "      <td>1</td>\n",
       "      <td>1.183068e+05</td>\n",
       "      <td>120.00</td>\n",
       "      <td>2010</td>\n",
       "      <td>44</td>\n",
       "      <td>10.97</td>\n",
       "      <td>60.67</td>\n",
       "    </tr>\n",
       "  </tbody>\n",
       "</table>\n",
       "<p>198917 rows × 14 columns</p>\n",
       "</div>"
      ],
      "text/plain": [
       "         Order   File_Type  SKU_number  SoldFlag  SoldCount MarketingType  \\\n",
       "0            2  Historical     1737127       0.0        0.0             D   \n",
       "1            3  Historical     3255963       0.0        0.0             D   \n",
       "2            4  Historical      612701       0.0        0.0             D   \n",
       "3            6  Historical      115883       1.0        1.0             D   \n",
       "4            7  Historical      863939       1.0        1.0             D   \n",
       "...        ...         ...         ...       ...        ...           ...   \n",
       "198912  208023      Active      109683       NaN        NaN             D   \n",
       "198913  208024      Active      416462       NaN        NaN             D   \n",
       "198914  208025      Active      658242       NaN        NaN             S   \n",
       "198915  208026      Active     2538340       NaN        NaN             S   \n",
       "198916  208027      Active      416662       NaN        NaN             D   \n",
       "\n",
       "        ReleaseNumber  New_Release_Flag  StrengthFactor  PriceReg  \\\n",
       "0                  15                 1    6.827430e+05     44.99   \n",
       "1                   7                 1    1.016014e+06     24.81   \n",
       "2                   0                 0    3.404640e+05     46.00   \n",
       "3                   4                 1    3.340110e+05    100.00   \n",
       "4                   2                 1    1.287938e+06    121.95   \n",
       "...               ...               ...             ...       ...   \n",
       "198912              7                 1    2.101869e+05     72.87   \n",
       "198913              8                 1    4.555041e+05    247.00   \n",
       "198914              2                 1    1.692746e+05     50.00   \n",
       "198915              2                 1    3.775266e+05     46.95   \n",
       "198916             15                 1    1.183068e+05    120.00   \n",
       "\n",
       "        ReleaseYear  ItemCount  LowUserPrice  LowNetPrice  \n",
       "0              2015          8         28.97        31.84  \n",
       "1              2005         39          0.00        15.54  \n",
       "2              2013         34         30.19        27.97  \n",
       "3              2006         20        133.93        83.15  \n",
       "4              2010         28          4.00        23.99  \n",
       "...             ...        ...           ...          ...  \n",
       "198912         2006         54          8.46        60.59  \n",
       "198913         2009         65          8.40        74.85  \n",
       "198914         2012         23         23.98        32.62  \n",
       "198915         2001         23         27.42        37.89  \n",
       "198916         2010         44         10.97        60.67  \n",
       "\n",
       "[198917 rows x 14 columns]"
      ]
     },
     "execution_count": 5,
     "metadata": {},
     "output_type": "execute_result"
    }
   ],
   "source": [
    "df"
   ]
  },
  {
   "cell_type": "markdown",
   "id": "a4dec541-7f7c-4033-ba5f-6d0d882cc968",
   "metadata": {},
   "source": [
    "#### Now We will clean the data for analysis"
   ]
  },
  {
   "cell_type": "code",
   "execution_count": 22,
   "id": "739b77ae-a195-4d94-a30b-e400ace3c9d8",
   "metadata": {},
   "outputs": [
    {
     "name": "stdout",
     "output_type": "stream",
     "text": [
      "Number of duplicate rows: 0\n"
     ]
    }
   ],
   "source": [
    "## In order to check the duplicates values we will write\n",
    "duplicates = df.duplicated().sum()\n",
    "print(f\"Number of duplicate rows: {duplicates}\")"
   ]
  },
  {
   "cell_type": "code",
   "execution_count": 24,
   "id": "ad17c4b9-9e15-4a87-8305-e8322d81a2b1",
   "metadata": {},
   "outputs": [
    {
     "name": "stdout",
     "output_type": "stream",
     "text": [
      "Order                    0\n",
      "File_Type                0\n",
      "SKU_number               0\n",
      "SoldFlag            122921\n",
      "SoldCount           122921\n",
      "MarketingType            0\n",
      "ReleaseNumber            0\n",
      "New_Release_Flag         0\n",
      "StrengthFactor           0\n",
      "PriceReg                 0\n",
      "ReleaseYear              0\n",
      "ItemCount                0\n",
      "LowUserPrice             0\n",
      "LowNetPrice              0\n",
      "dtype: int64\n"
     ]
    }
   ],
   "source": [
    "## Now we will check for the null values\n",
    "print(df.isnull().sum())"
   ]
  },
  {
   "cell_type": "markdown",
   "id": "3c25c36f-6f2d-4b2c-b453-89a582f341a0",
   "metadata": {},
   "source": [
    "##### Here, We can see that null values are present in 2 columns. So, we need to handle these Null values"
   ]
  },
  {
   "cell_type": "code",
   "execution_count": 27,
   "id": "69fd36d2-8c9b-47d7-ac3f-d504bc60c677",
   "metadata": {},
   "outputs": [],
   "source": [
    "df['SoldFlag'].fillna(0, inplace=True)\n",
    "df['SoldCount'].fillna(0, inplace=True)"
   ]
  },
  {
   "cell_type": "code",
   "execution_count": 29,
   "id": "556efdc3-6581-4d73-9ef6-e27af1e36bee",
   "metadata": {},
   "outputs": [
    {
     "name": "stdout",
     "output_type": "stream",
     "text": [
      "Order               0\n",
      "File_Type           0\n",
      "SKU_number          0\n",
      "SoldFlag            0\n",
      "SoldCount           0\n",
      "MarketingType       0\n",
      "ReleaseNumber       0\n",
      "New_Release_Flag    0\n",
      "StrengthFactor      0\n",
      "PriceReg            0\n",
      "ReleaseYear         0\n",
      "ItemCount           0\n",
      "LowUserPrice        0\n",
      "LowNetPrice         0\n",
      "dtype: int64\n"
     ]
    }
   ],
   "source": [
    "print(df.isnull().sum())"
   ]
  },
  {
   "cell_type": "markdown",
   "id": "71b72121-056b-4ce0-a37f-36c21376ba06",
   "metadata": {},
   "source": [
    "##### Now, after handling the missing data we do not have any null values present in the dataset\n",
    "\n",
    "#### We will save the file and perform some operations in it described as below"
   ]
  },
  {
   "cell_type": "code",
   "execution_count": 32,
   "id": "cfbc76dc-f759-4c22-b97e-4bab2868e88c",
   "metadata": {},
   "outputs": [],
   "source": [
    "df.to_excel('Cleaned Boxify Dataset.xlsx', index=False)"
   ]
  },
  {
   "cell_type": "code",
   "execution_count": 33,
   "id": "2d4d7b5c-88e1-4071-9016-d36b73974a62",
   "metadata": {},
   "outputs": [],
   "source": [
    "from IPython.display import FileLink"
   ]
  },
  {
   "cell_type": "code",
   "execution_count": 34,
   "id": "8888c76b-6a97-43fd-898f-a6f7fe354dad",
   "metadata": {},
   "outputs": [
    {
     "data": {
      "text/html": [
       "<a href='Cleaned Boxify Dataset.xlsx' target='_blank'>Cleaned Boxify Dataset.xlsx</a><br>"
      ],
      "text/plain": [
       "C:\\Users\\pc\\Cleaned Boxify Dataset.xlsx"
      ]
     },
     "execution_count": 34,
     "metadata": {},
     "output_type": "execute_result"
    }
   ],
   "source": [
    "FileLink('Cleaned Boxify Dataset.xlsx')"
   ]
  },
  {
   "cell_type": "code",
   "execution_count": 38,
   "id": "32176343-cc68-4115-84fa-0623d2ad4714",
   "metadata": {},
   "outputs": [],
   "source": [
    "da= pd.read_excel('Cleaned Boxify Dataset.xlsx')"
   ]
  },
  {
   "cell_type": "code",
   "execution_count": 39,
   "id": "09d6ab6b-817f-42b8-8cc2-0f4aaf8a86e7",
   "metadata": {},
   "outputs": [
    {
     "data": {
      "text/html": [
       "<div>\n",
       "<style scoped>\n",
       "    .dataframe tbody tr th:only-of-type {\n",
       "        vertical-align: middle;\n",
       "    }\n",
       "\n",
       "    .dataframe tbody tr th {\n",
       "        vertical-align: top;\n",
       "    }\n",
       "\n",
       "    .dataframe thead th {\n",
       "        text-align: right;\n",
       "    }\n",
       "</style>\n",
       "<table border=\"1\" class=\"dataframe\">\n",
       "  <thead>\n",
       "    <tr style=\"text-align: right;\">\n",
       "      <th></th>\n",
       "      <th>Order</th>\n",
       "      <th>File_Type</th>\n",
       "      <th>SKU_number</th>\n",
       "      <th>SoldFlag</th>\n",
       "      <th>SoldCount</th>\n",
       "      <th>MarketingType</th>\n",
       "      <th>ReleaseNumber</th>\n",
       "      <th>New_Release_Flag</th>\n",
       "      <th>StrengthFactor</th>\n",
       "      <th>PriceReg</th>\n",
       "      <th>ReleaseYear</th>\n",
       "      <th>ItemCount</th>\n",
       "      <th>LowUserPrice</th>\n",
       "      <th>LowNetPrice</th>\n",
       "    </tr>\n",
       "  </thead>\n",
       "  <tbody>\n",
       "    <tr>\n",
       "      <th>0</th>\n",
       "      <td>2</td>\n",
       "      <td>Historical</td>\n",
       "      <td>1737127</td>\n",
       "      <td>0</td>\n",
       "      <td>0</td>\n",
       "      <td>D</td>\n",
       "      <td>15</td>\n",
       "      <td>1</td>\n",
       "      <td>6.827430e+05</td>\n",
       "      <td>44.99</td>\n",
       "      <td>2015</td>\n",
       "      <td>8</td>\n",
       "      <td>28.97</td>\n",
       "      <td>31.84</td>\n",
       "    </tr>\n",
       "    <tr>\n",
       "      <th>1</th>\n",
       "      <td>3</td>\n",
       "      <td>Historical</td>\n",
       "      <td>3255963</td>\n",
       "      <td>0</td>\n",
       "      <td>0</td>\n",
       "      <td>D</td>\n",
       "      <td>7</td>\n",
       "      <td>1</td>\n",
       "      <td>1.016014e+06</td>\n",
       "      <td>24.81</td>\n",
       "      <td>2005</td>\n",
       "      <td>39</td>\n",
       "      <td>0.00</td>\n",
       "      <td>15.54</td>\n",
       "    </tr>\n",
       "    <tr>\n",
       "      <th>2</th>\n",
       "      <td>4</td>\n",
       "      <td>Historical</td>\n",
       "      <td>612701</td>\n",
       "      <td>0</td>\n",
       "      <td>0</td>\n",
       "      <td>D</td>\n",
       "      <td>0</td>\n",
       "      <td>0</td>\n",
       "      <td>3.404640e+05</td>\n",
       "      <td>46.00</td>\n",
       "      <td>2013</td>\n",
       "      <td>34</td>\n",
       "      <td>30.19</td>\n",
       "      <td>27.97</td>\n",
       "    </tr>\n",
       "    <tr>\n",
       "      <th>3</th>\n",
       "      <td>6</td>\n",
       "      <td>Historical</td>\n",
       "      <td>115883</td>\n",
       "      <td>1</td>\n",
       "      <td>1</td>\n",
       "      <td>D</td>\n",
       "      <td>4</td>\n",
       "      <td>1</td>\n",
       "      <td>3.340110e+05</td>\n",
       "      <td>100.00</td>\n",
       "      <td>2006</td>\n",
       "      <td>20</td>\n",
       "      <td>133.93</td>\n",
       "      <td>83.15</td>\n",
       "    </tr>\n",
       "    <tr>\n",
       "      <th>4</th>\n",
       "      <td>7</td>\n",
       "      <td>Historical</td>\n",
       "      <td>863939</td>\n",
       "      <td>1</td>\n",
       "      <td>1</td>\n",
       "      <td>D</td>\n",
       "      <td>2</td>\n",
       "      <td>1</td>\n",
       "      <td>1.287938e+06</td>\n",
       "      <td>121.95</td>\n",
       "      <td>2010</td>\n",
       "      <td>28</td>\n",
       "      <td>4.00</td>\n",
       "      <td>23.99</td>\n",
       "    </tr>\n",
       "    <tr>\n",
       "      <th>...</th>\n",
       "      <td>...</td>\n",
       "      <td>...</td>\n",
       "      <td>...</td>\n",
       "      <td>...</td>\n",
       "      <td>...</td>\n",
       "      <td>...</td>\n",
       "      <td>...</td>\n",
       "      <td>...</td>\n",
       "      <td>...</td>\n",
       "      <td>...</td>\n",
       "      <td>...</td>\n",
       "      <td>...</td>\n",
       "      <td>...</td>\n",
       "      <td>...</td>\n",
       "    </tr>\n",
       "    <tr>\n",
       "      <th>198912</th>\n",
       "      <td>208023</td>\n",
       "      <td>Active</td>\n",
       "      <td>109683</td>\n",
       "      <td>0</td>\n",
       "      <td>0</td>\n",
       "      <td>D</td>\n",
       "      <td>7</td>\n",
       "      <td>1</td>\n",
       "      <td>2.101869e+05</td>\n",
       "      <td>72.87</td>\n",
       "      <td>2006</td>\n",
       "      <td>54</td>\n",
       "      <td>8.46</td>\n",
       "      <td>60.59</td>\n",
       "    </tr>\n",
       "    <tr>\n",
       "      <th>198913</th>\n",
       "      <td>208024</td>\n",
       "      <td>Active</td>\n",
       "      <td>416462</td>\n",
       "      <td>0</td>\n",
       "      <td>0</td>\n",
       "      <td>D</td>\n",
       "      <td>8</td>\n",
       "      <td>1</td>\n",
       "      <td>4.555041e+05</td>\n",
       "      <td>247.00</td>\n",
       "      <td>2009</td>\n",
       "      <td>65</td>\n",
       "      <td>8.40</td>\n",
       "      <td>74.85</td>\n",
       "    </tr>\n",
       "    <tr>\n",
       "      <th>198914</th>\n",
       "      <td>208025</td>\n",
       "      <td>Active</td>\n",
       "      <td>658242</td>\n",
       "      <td>0</td>\n",
       "      <td>0</td>\n",
       "      <td>S</td>\n",
       "      <td>2</td>\n",
       "      <td>1</td>\n",
       "      <td>1.692746e+05</td>\n",
       "      <td>50.00</td>\n",
       "      <td>2012</td>\n",
       "      <td>23</td>\n",
       "      <td>23.98</td>\n",
       "      <td>32.62</td>\n",
       "    </tr>\n",
       "    <tr>\n",
       "      <th>198915</th>\n",
       "      <td>208026</td>\n",
       "      <td>Active</td>\n",
       "      <td>2538340</td>\n",
       "      <td>0</td>\n",
       "      <td>0</td>\n",
       "      <td>S</td>\n",
       "      <td>2</td>\n",
       "      <td>1</td>\n",
       "      <td>3.775266e+05</td>\n",
       "      <td>46.95</td>\n",
       "      <td>2001</td>\n",
       "      <td>23</td>\n",
       "      <td>27.42</td>\n",
       "      <td>37.89</td>\n",
       "    </tr>\n",
       "    <tr>\n",
       "      <th>198916</th>\n",
       "      <td>208027</td>\n",
       "      <td>Active</td>\n",
       "      <td>416662</td>\n",
       "      <td>0</td>\n",
       "      <td>0</td>\n",
       "      <td>D</td>\n",
       "      <td>15</td>\n",
       "      <td>1</td>\n",
       "      <td>1.183068e+05</td>\n",
       "      <td>120.00</td>\n",
       "      <td>2010</td>\n",
       "      <td>44</td>\n",
       "      <td>10.97</td>\n",
       "      <td>60.67</td>\n",
       "    </tr>\n",
       "  </tbody>\n",
       "</table>\n",
       "<p>198917 rows × 14 columns</p>\n",
       "</div>"
      ],
      "text/plain": [
       "         Order   File_Type  SKU_number  SoldFlag  SoldCount MarketingType  \\\n",
       "0            2  Historical     1737127         0          0             D   \n",
       "1            3  Historical     3255963         0          0             D   \n",
       "2            4  Historical      612701         0          0             D   \n",
       "3            6  Historical      115883         1          1             D   \n",
       "4            7  Historical      863939         1          1             D   \n",
       "...        ...         ...         ...       ...        ...           ...   \n",
       "198912  208023      Active      109683         0          0             D   \n",
       "198913  208024      Active      416462         0          0             D   \n",
       "198914  208025      Active      658242         0          0             S   \n",
       "198915  208026      Active     2538340         0          0             S   \n",
       "198916  208027      Active      416662         0          0             D   \n",
       "\n",
       "        ReleaseNumber  New_Release_Flag  StrengthFactor  PriceReg  \\\n",
       "0                  15                 1    6.827430e+05     44.99   \n",
       "1                   7                 1    1.016014e+06     24.81   \n",
       "2                   0                 0    3.404640e+05     46.00   \n",
       "3                   4                 1    3.340110e+05    100.00   \n",
       "4                   2                 1    1.287938e+06    121.95   \n",
       "...               ...               ...             ...       ...   \n",
       "198912              7                 1    2.101869e+05     72.87   \n",
       "198913              8                 1    4.555041e+05    247.00   \n",
       "198914              2                 1    1.692746e+05     50.00   \n",
       "198915              2                 1    3.775266e+05     46.95   \n",
       "198916             15                 1    1.183068e+05    120.00   \n",
       "\n",
       "        ReleaseYear  ItemCount  LowUserPrice  LowNetPrice  \n",
       "0              2015          8         28.97        31.84  \n",
       "1              2005         39          0.00        15.54  \n",
       "2              2013         34         30.19        27.97  \n",
       "3              2006         20        133.93        83.15  \n",
       "4              2010         28          4.00        23.99  \n",
       "...             ...        ...           ...          ...  \n",
       "198912         2006         54          8.46        60.59  \n",
       "198913         2009         65          8.40        74.85  \n",
       "198914         2012         23         23.98        32.62  \n",
       "198915         2001         23         27.42        37.89  \n",
       "198916         2010         44         10.97        60.67  \n",
       "\n",
       "[198917 rows x 14 columns]"
      ]
     },
     "execution_count": 39,
     "metadata": {},
     "output_type": "execute_result"
    }
   ],
   "source": [
    "da"
   ]
  },
  {
   "cell_type": "markdown",
   "id": "2dcf5d69-d832-4b3e-b29e-30bc78c686f0",
   "metadata": {},
   "source": [
    "### Exploratory Data Analysis (EDA)"
   ]
  },
  {
   "cell_type": "markdown",
   "id": "e8b9e0b4-7e6f-4229-9d94-009286e03c3a",
   "metadata": {},
   "source": [
    "##### 1st point - Analyze sales trends and variations over time.(Aggregate Sales Data by Year)"
   ]
  },
  {
   "cell_type": "code",
   "execution_count": 45,
   "id": "d926ac3f-6dc0-4e0e-a186-c7854b052f28",
   "metadata": {},
   "outputs": [
    {
     "data": {
      "text/html": [
       "<div>\n",
       "<style scoped>\n",
       "    .dataframe tbody tr th:only-of-type {\n",
       "        vertical-align: middle;\n",
       "    }\n",
       "\n",
       "    .dataframe tbody tr th {\n",
       "        vertical-align: top;\n",
       "    }\n",
       "\n",
       "    .dataframe thead th {\n",
       "        text-align: right;\n",
       "    }\n",
       "</style>\n",
       "<table border=\"1\" class=\"dataframe\">\n",
       "  <thead>\n",
       "    <tr style=\"text-align: right;\">\n",
       "      <th></th>\n",
       "      <th>ReleaseYear</th>\n",
       "      <th>SoldCount</th>\n",
       "    </tr>\n",
       "  </thead>\n",
       "  <tbody>\n",
       "    <tr>\n",
       "      <th>0</th>\n",
       "      <td>0</td>\n",
       "      <td>0</td>\n",
       "    </tr>\n",
       "    <tr>\n",
       "      <th>1</th>\n",
       "      <td>1900</td>\n",
       "      <td>0</td>\n",
       "    </tr>\n",
       "    <tr>\n",
       "      <th>2</th>\n",
       "      <td>1904</td>\n",
       "      <td>0</td>\n",
       "    </tr>\n",
       "    <tr>\n",
       "      <th>3</th>\n",
       "      <td>1905</td>\n",
       "      <td>0</td>\n",
       "    </tr>\n",
       "    <tr>\n",
       "      <th>4</th>\n",
       "      <td>1914</td>\n",
       "      <td>0</td>\n",
       "    </tr>\n",
       "    <tr>\n",
       "      <th>...</th>\n",
       "      <td>...</td>\n",
       "      <td>...</td>\n",
       "    </tr>\n",
       "    <tr>\n",
       "      <th>80</th>\n",
       "      <td>2014</td>\n",
       "      <td>794</td>\n",
       "    </tr>\n",
       "    <tr>\n",
       "      <th>81</th>\n",
       "      <td>2015</td>\n",
       "      <td>122</td>\n",
       "    </tr>\n",
       "    <tr>\n",
       "      <th>82</th>\n",
       "      <td>2016</td>\n",
       "      <td>3</td>\n",
       "    </tr>\n",
       "    <tr>\n",
       "      <th>83</th>\n",
       "      <td>2017</td>\n",
       "      <td>0</td>\n",
       "    </tr>\n",
       "    <tr>\n",
       "      <th>84</th>\n",
       "      <td>2018</td>\n",
       "      <td>0</td>\n",
       "    </tr>\n",
       "  </tbody>\n",
       "</table>\n",
       "<p>85 rows × 2 columns</p>\n",
       "</div>"
      ],
      "text/plain": [
       "    ReleaseYear  SoldCount\n",
       "0             0          0\n",
       "1          1900          0\n",
       "2          1904          0\n",
       "3          1905          0\n",
       "4          1914          0\n",
       "..          ...        ...\n",
       "80         2014        794\n",
       "81         2015        122\n",
       "82         2016          3\n",
       "83         2017          0\n",
       "84         2018          0\n",
       "\n",
       "[85 rows x 2 columns]"
      ]
     },
     "execution_count": 45,
     "metadata": {},
     "output_type": "execute_result"
    }
   ],
   "source": [
    "sales_trends = da.groupby('ReleaseYear')['SoldCount'].sum().reset_index()\n",
    "sales_trends"
   ]
  },
  {
   "cell_type": "code",
   "execution_count": 107,
   "id": "dd3b754c-f598-4e06-965a-e67da7329c2c",
   "metadata": {},
   "outputs": [
    {
     "name": "stdout",
     "output_type": "stream",
     "text": [
      "    ReleaseYear  SoldCount           Trend\n",
      "0             0          0  low sales year\n",
      "1          1900          0  low sales year\n",
      "2          1904          0  low sales year\n",
      "3          1905          0  low sales year\n",
      "4          1914          0  low sales year\n",
      "..          ...        ...             ...\n",
      "80         2014        794       Peak Year\n",
      "81         2015        122     Normal Year\n",
      "82         2016          3  low sales year\n",
      "83         2017          0  low sales year\n",
      "84         2018          0  low sales year\n",
      "\n",
      "[85 rows x 3 columns]\n"
     ]
    }
   ],
   "source": [
    "# Apply the seasonal trend logic to classify sales trends\n",
    "def classify_sales_trend(sales):\n",
    "    if sales < 20:\n",
    "        return \"low sales year\"\n",
    "    elif sales < 200:\n",
    "        return \"Normal Year\"\n",
    "    else:\n",
    "        return \"Peak Year\"\n",
    "sales_trends['Trend'] = sales_trends['SoldCount'].apply(classify_sales_trend)\n",
    "print(sales_trends)"
   ]
  },
  {
   "cell_type": "markdown",
   "id": "fd1615d8-e2a8-4183-afbc-651ec50b9f95",
   "metadata": {},
   "source": [
    "##### 2 Point- Identify top-selling products and categories."
   ]
  },
  {
   "cell_type": "code",
   "execution_count": 50,
   "id": "b1971cbf-8e80-4442-b993-018a19b91700",
   "metadata": {},
   "outputs": [],
   "source": [
    "top_products = da.groupby('SKU_number')['SoldCount'].sum().sort_values(ascending=False).head(10)"
   ]
  },
  {
   "cell_type": "code",
   "execution_count": 52,
   "id": "02f00e78-fd65-4c0c-b6ab-71914a6331e2",
   "metadata": {},
   "outputs": [
    {
     "data": {
      "text/plain": [
       "SKU_number\n",
       "665269    73\n",
       "613864    69\n",
       "141848    51\n",
       "254518    40\n",
       "767846    36\n",
       "55769     36\n",
       "416609    35\n",
       "243550    34\n",
       "141824    33\n",
       "747765    30\n",
       "Name: SoldCount, dtype: int64"
      ]
     },
     "execution_count": 52,
     "metadata": {},
     "output_type": "execute_result"
    }
   ],
   "source": [
    "top_products"
   ]
  },
  {
   "cell_type": "code",
   "execution_count": 54,
   "id": "a38e677b-a128-4464-a1da-6702b48bcb36",
   "metadata": {},
   "outputs": [
    {
     "data": {
      "text/plain": [
       "File_Type\n",
       "Historical    24494\n",
       "Active            0\n",
       "Name: SoldCount, dtype: int64"
      ]
     },
     "execution_count": 54,
     "metadata": {},
     "output_type": "execute_result"
    }
   ],
   "source": [
    "top_categories = da.groupby('File_Type')['SoldCount'].sum().sort_values(ascending=False)\n",
    "top_categories"
   ]
  },
  {
   "cell_type": "markdown",
   "id": "023ad00f-1cf8-43b3-8155-6c46ea77526c",
   "metadata": {},
   "source": [
    "##### 3 Point- Investigate stock levels and low-stock items while performing EDA"
   ]
  },
  {
   "cell_type": "code",
   "execution_count": 61,
   "id": "c2f87cbd-1f07-449b-b68b-c61eab175bac",
   "metadata": {},
   "outputs": [],
   "source": [
    "stock_level = da.groupby('SKU_number')['ItemCount'].sum().sort_values(ascending=False)"
   ]
  },
  {
   "cell_type": "code",
   "execution_count": 63,
   "id": "2c2977c0-0d7e-48cf-928c-3008d21507d8",
   "metadata": {},
   "outputs": [
    {
     "data": {
      "text/plain": [
       "SKU_number\n",
       "536345     3046\n",
       "198645     2852\n",
       "672549     2542\n",
       "543471     1920\n",
       "612805     1860\n",
       "           ... \n",
       "862455        0\n",
       "2281256       0\n",
       "2281296       0\n",
       "2281309       0\n",
       "2558237       0\n",
       "Name: ItemCount, Length: 133360, dtype: int64"
      ]
     },
     "execution_count": 63,
     "metadata": {},
     "output_type": "execute_result"
    }
   ],
   "source": [
    "stock_level"
   ]
  },
  {
   "cell_type": "code",
   "execution_count": 65,
   "id": "ff81b712-a034-4c93-bc38-5206100aeaee",
   "metadata": {},
   "outputs": [
    {
     "name": "stdout",
     "output_type": "stream",
     "text": [
      "Low-stock items:\n",
      "        SKU_number  ItemCount\n",
      "0          1737127          8\n",
      "118         873654          5\n",
      "350         613288          9\n",
      "797         521116          2\n",
      "1073        659971          8\n",
      "...            ...        ...\n",
      "197792      766251          6\n",
      "198244     2511839          7\n",
      "198260     2287680          0\n",
      "198310     1456205          9\n",
      "198520     1624605          2\n",
      "\n",
      "[3379 rows x 2 columns]\n"
     ]
    }
   ],
   "source": [
    "## Show only those SKU_number whose item count is less than or equals to 10\n",
    "thresold= 10\n",
    "low_stock_items = da[da['ItemCount'] < thresold]\n",
    "\n",
    "print(\"Low-stock items:\")\n",
    "print(low_stock_items[['SKU_number', 'ItemCount']])\n"
   ]
  },
  {
   "cell_type": "code",
   "execution_count": 67,
   "id": "71d0e0c2-94b9-479c-a277-90f2d0d2e9dc",
   "metadata": {},
   "outputs": [],
   "source": [
    "low_stock_summary=low_stock_items.groupby('SKU_number')['ItemCount'].min().sort_values().head(100)"
   ]
  },
  {
   "cell_type": "code",
   "execution_count": 69,
   "id": "b67731f0-0d38-48a1-b799-087554d67ccb",
   "metadata": {},
   "outputs": [
    {
     "data": {
      "text/plain": [
       "SKU_number\n",
       "2032231    0\n",
       "3530648    0\n",
       "3748942    0\n",
       "2287580    0\n",
       "2287680    0\n",
       "          ..\n",
       "2299367    0\n",
       "2298513    0\n",
       "2575187    0\n",
       "3634467    0\n",
       "2291822    0\n",
       "Name: ItemCount, Length: 100, dtype: int64"
      ]
     },
     "execution_count": 69,
     "metadata": {},
     "output_type": "execute_result"
    }
   ],
   "source": [
    "low_stock_summary"
   ]
  },
  {
   "cell_type": "markdown",
   "id": "ade6d1d3-2505-48cc-b8a7-73cb6f21c58d",
   "metadata": {},
   "source": [
    "### Inventory Insights and Recommendations"
   ]
  },
  {
   "cell_type": "markdown",
   "id": "40c94f71-d3bc-45ce-847d-a8336e5123c3",
   "metadata": {},
   "source": [
    "#### Calculate key performance indicators (e.g., inventory turnover, stock-to-sales ratio, reorder points)."
   ]
  },
  {
   "cell_type": "markdown",
   "id": "bcb4686f-4512-4fd4-ab6b-e90f4aa0f338",
   "metadata": {},
   "source": [
    "#### 1st KPI- Inventory Turnover"
   ]
  },
  {
   "cell_type": "code",
   "execution_count": 74,
   "id": "6315c9ad-b7df-425c-ab71-cddf0cbc0486",
   "metadata": {},
   "outputs": [
    {
     "data": {
      "text/plain": [
       "41.42628332420055"
      ]
     },
     "execution_count": 74,
     "metadata": {},
     "output_type": "execute_result"
    }
   ],
   "source": [
    "## We have to calculate average inventory because it is used in inventory turnover\n",
    "avg_inventory=da['ItemCount'].mean()\n",
    "avg_inventory"
   ]
  },
  {
   "cell_type": "code",
   "execution_count": 76,
   "id": "c66c4618-0257-46ac-89f1-74cf8f40b4dc",
   "metadata": {},
   "outputs": [
    {
     "name": "stdout",
     "output_type": "stream",
     "text": [
      "Inventory Turnover: 591.27\n"
     ]
    }
   ],
   "source": [
    "# Example formula: Inventory Turnover = Total SoldCount / Average ItemCount\n",
    "inventory_turnover = da['SoldCount'].sum() / avg_inventory\n",
    "print(f\"Inventory Turnover: {inventory_turnover:.2f}\")"
   ]
  },
  {
   "cell_type": "markdown",
   "id": "4d5cf8b6-2fa1-466a-a153-531f91693ef5",
   "metadata": {},
   "source": [
    "#### 2nd KPI- Reorder Points"
   ]
  },
  {
   "cell_type": "code",
   "execution_count": 83,
   "id": "27ab9f9f-69e8-4dcd-9088-fab7fab6770a",
   "metadata": {},
   "outputs": [
    {
     "data": {
      "text/plain": [
       "24494"
      ]
     },
     "execution_count": 83,
     "metadata": {},
     "output_type": "execute_result"
    }
   ],
   "source": [
    "## we have to calculate total sales because it used in reorder points\n",
    "total_sales=da['SoldCount'].sum()\n",
    "total_sales"
   ]
  },
  {
   "cell_type": "markdown",
   "id": "9e90b92d-d535-4690-a880-6607335495b6",
   "metadata": {},
   "source": [
    "### 3rd KPI- Stock To Sales Ratio"
   ]
  },
  {
   "cell_type": "code",
   "execution_count": 92,
   "id": "2e2db1da-36fd-4b57-a9e5-c2adae6d5c15",
   "metadata": {},
   "outputs": [
    {
     "name": "stdout",
     "output_type": "stream",
     "text": [
      "Stock-to-Sales Ratio:, 0.0017\n"
     ]
    }
   ],
   "source": [
    "#Stock-to-sales ratio\n",
    "stock_to_sales_ratio = avg_inventory/total_sales\n",
    "print(f\"Stock-to-Sales Ratio:, {stock_to_sales_ratio:.4f}\")"
   ]
  },
  {
   "cell_type": "code",
   "execution_count": 94,
   "id": "3bbeac2a-7dc8-411d-adce-18ab660e6bac",
   "metadata": {},
   "outputs": [
    {
     "data": {
      "text/plain": [
       "67.10684931506849"
      ]
     },
     "execution_count": 94,
     "metadata": {},
     "output_type": "execute_result"
    }
   ],
   "source": [
    "lead_days = 7\n",
    "days_in_datasets = 365\n",
    "## To calculate average_daily_sales we have to divide total_sales by the days_in_datasets\n",
    "avg_daily_sales=total_sales/days_in_datasets\n",
    "avg_daily_sales"
   ]
  },
  {
   "cell_type": "code",
   "execution_count": 96,
   "id": "a5e1383f-3b78-4364-8a62-f11b02a9e18f",
   "metadata": {},
   "outputs": [
    {
     "name": "stdout",
     "output_type": "stream",
     "text": [
      "Reorder Points= 469.7479452054794\n"
     ]
    }
   ],
   "source": [
    "## To calculate Reorder Point we have to multiply avg_daily_sales with lead_days\n",
    "reorder_point= avg_daily_sales*lead_days\n",
    "print(\"Reorder Points=\",reorder_point)"
   ]
  },
  {
   "cell_type": "markdown",
   "id": "b9c48f84-12c2-44a2-8f6c-34e5a71c5d2b",
   "metadata": {},
   "source": [
    "#### Action Recommendations"
   ]
  },
  {
   "cell_type": "code",
   "execution_count": 99,
   "id": "bd55dfb6-8c63-4afd-874f-4ac4792ab028",
   "metadata": {},
   "outputs": [
    {
     "data": {
      "text/plain": [
       "['Ensure sufficient stock levels for SKU 665269 to meet demand.',\n",
       " 'Ensure sufficient stock levels for SKU 613864 to meet demand.',\n",
       " 'Ensure sufficient stock levels for SKU 141848 to meet demand.',\n",
       " 'Ensure sufficient stock levels for SKU 254518 to meet demand.',\n",
       " 'Ensure sufficient stock levels for SKU 767846 to meet demand.',\n",
       " 'Ensure sufficient stock levels for SKU 55769 to meet demand.',\n",
       " 'Ensure sufficient stock levels for SKU 416609 to meet demand.',\n",
       " 'Ensure sufficient stock levels for SKU 243550 to meet demand.',\n",
       " 'Ensure sufficient stock levels for SKU 141824 to meet demand.',\n",
       " 'Ensure sufficient stock levels for SKU 747765 to meet demand.']"
      ]
     },
     "execution_count": 99,
     "metadata": {},
     "output_type": "execute_result"
    }
   ],
   "source": [
    "# Identify Top Products\n",
    "top_products_recommendation = [\n",
    "    f\"Ensure sufficient stock levels for SKU {sku} to meet demand.\" \n",
    "    for sku in top_products.index\n",
    "]\n",
    "top_products_recommendation"
   ]
  },
  {
   "cell_type": "code",
   "execution_count": 101,
   "id": "49e2eaf0-48da-49a5-90bc-d76b8baed33b",
   "metadata": {},
   "outputs": [
    {
     "data": {
      "text/plain": [
       "['Reorder SKU 1737127 as current stock (8) is below the threshold.',\n",
       " 'Reorder SKU 873654 as current stock (5) is below the threshold.',\n",
       " 'Reorder SKU 613288 as current stock (9) is below the threshold.',\n",
       " 'Reorder SKU 521116 as current stock (2) is below the threshold.',\n",
       " 'Reorder SKU 659971 as current stock (8) is below the threshold.',\n",
       " 'Reorder SKU 1450154 as current stock (6) is below the threshold.',\n",
       " 'Reorder SKU 146207 as current stock (6) is below the threshold.',\n",
       " 'Reorder SKU 147350 as current stock (9) is below the threshold.',\n",
       " 'Reorder SKU 1594170 as current stock (7) is below the threshold.',\n",
       " 'Reorder SKU 1632797 as current stock (8) is below the threshold.']"
      ]
     },
     "execution_count": 101,
     "metadata": {},
     "output_type": "execute_result"
    }
   ],
   "source": [
    "# Identify Low-stock\n",
    "low_stock_items_recommendation = [\n",
    "    f\"Reorder SKU {row['SKU_number']} as current stock ({row['ItemCount']}) is below the threshold.\"\n",
    "    for _, row in low_stock_items.iterrows()\n",
    "]\n",
    "low_stock_items_recommendation[:10]"
   ]
  },
  {
   "cell_type": "code",
   "execution_count": 105,
   "id": "8e4ced03-c92f-444d-991d-4ffa04e75f17",
   "metadata": {},
   "outputs": [
    {
     "data": {
      "text/plain": [
       "ReleaseYear\n",
       "0          1\n",
       "1900     338\n",
       "1904       2\n",
       "1905       1\n",
       "1914       1\n",
       "        ... \n",
       "2014    7124\n",
       "2015    3862\n",
       "2016     652\n",
       "2017       6\n",
       "2018       1\n",
       "Name: SKU_number, Length: 85, dtype: int64"
      ]
     },
     "execution_count": 105,
     "metadata": {},
     "output_type": "execute_result"
    }
   ],
   "source": [
    "seasonal_trends = da.groupby('ReleaseYear')['SKU_number'].nunique().sort_index() \n",
    "seasonal_trends"
   ]
  },
  {
   "cell_type": "code",
   "execution_count": null,
   "id": "c1ba9a75-04d9-4d2d-910d-5bd4d040c321",
   "metadata": {},
   "outputs": [],
   "source": []
  }
 ],
 "metadata": {
  "kernelspec": {
   "display_name": "Python 3 (ipykernel)",
   "language": "python",
   "name": "python3"
  },
  "language_info": {
   "codemirror_mode": {
    "name": "ipython",
    "version": 3
   },
   "file_extension": ".py",
   "mimetype": "text/x-python",
   "name": "python",
   "nbconvert_exporter": "python",
   "pygments_lexer": "ipython3",
   "version": "3.12.4"
  }
 },
 "nbformat": 4,
 "nbformat_minor": 5
}
